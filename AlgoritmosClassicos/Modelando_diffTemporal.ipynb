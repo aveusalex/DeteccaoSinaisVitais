{
 "cells": [
  {
   "cell_type": "code",
   "execution_count": 1,
   "metadata": {
    "collapsed": true
   },
   "outputs": [],
   "source": [
    "from Algoritmo_diff_temporal import get_statistics"
   ]
  },
  {
   "cell_type": "code",
   "execution_count": 2,
   "outputs": [],
   "source": [
    "import numpy as np\n",
    "import matplotlib.pyplot as plt"
   ],
   "metadata": {
    "collapsed": false
   }
  },
  {
   "cell_type": "markdown",
   "source": [
    "## Carregando os dados"
   ],
   "metadata": {
    "collapsed": false
   }
  },
  {
   "cell_type": "code",
   "execution_count": 3,
   "outputs": [],
   "source": [
    "window = 1000\n",
    "path = r\"F:/Projetos/apneias_npy\""
   ],
   "metadata": {
    "collapsed": false
   }
  },
  {
   "cell_type": "code",
   "execution_count": 4,
   "outputs": [],
   "source": [
    "stats = get_statistics(path, window, n_jobs=-1)"
   ],
   "metadata": {
    "collapsed": false
   }
  },
  {
   "cell_type": "code",
   "execution_count": 5,
   "outputs": [
    {
     "data": {
      "text/plain": "56"
     },
     "execution_count": 5,
     "metadata": {},
     "output_type": "execute_result"
    }
   ],
   "source": [
    "len(stats)"
   ],
   "metadata": {
    "collapsed": false
   }
  },
  {
   "cell_type": "code",
   "execution_count": 6,
   "outputs": [
    {
     "data": {
      "text/plain": "(2, 57, 11000)"
     },
     "execution_count": 6,
     "metadata": {},
     "output_type": "execute_result"
    }
   ],
   "source": [
    "stats[\"Apneia10_0-Luiz Fernando-Intel 5300-Rapida-Sentado_frente-FFZ-_1m-Intel 5300-28_09_2022-10_40-99_92Hz-54R-69bpm.npy\"].shape"
   ],
   "metadata": {
    "collapsed": false
   }
  },
  {
   "cell_type": "markdown",
   "source": [
    "> (Variancia, desvio padrao), (subports), (statistics dos pacotes)"
   ],
   "metadata": {
    "collapsed": false
   }
  },
  {
   "cell_type": "code",
   "execution_count": 7,
   "outputs": [],
   "source": [
    "# temos que cada valor foi calculado sobre uma janela de 1000 pacotes.\n",
    "# isso tem um problema nas transições entre apneia e não apneia...\n",
    "# uma primeira abordagem é descartar esses valores por enquanto...\n",
    "# para descartar, devemos pensar que cada valor que temos nesse dataset gerado ->\n",
    "# foi calculado em cima de 1000 pacotes passados.\n",
    "# Portanto, o primeiro pacote vale os primeiros 1000 pacotes da captura original.\n",
    "# Seguindo essa lógica, o pacote de numero 8000 aqui vale do pacote 8000 ao 9000 original.\n",
    "# A partir do 8001 já começa a faixa de transicao, que só se encerra no pacote 9000, que vale do 9000 ao 10000"
   ],
   "metadata": {
    "collapsed": false
   }
  },
  {
   "cell_type": "code",
   "execution_count": 10,
   "outputs": [],
   "source": [
    "# Devemos organizar em apneia e não apneia\n",
    "\n",
    "def separa_apneia_naoapneia(captura, window_size=1000):\n",
    "    \"\"\"\n",
    "    Separa uma captura em apneia e não apneia. Descartamos a janela de transição (9001 - window:9001 até 9000:...)\n",
    "    :param captura: np.array de shape (2, 57, windows)\n",
    "    :param window_size: int\n",
    "    :return: tuple -> shape=(2, 57, 2, windows_apneia OR windows_naoapneia)\n",
    "    (apneia e não apneia), (qtd de subports), (variancia e desvio padrao), (qtd de janelas analisadas)\n",
    "    \"\"\"\n",
    "    # para cada subportadora\n",
    "    subports_apneia = []\n",
    "    subports_naoapneia = []\n",
    "    for sub_idx in range(captura.shape[1]):\n",
    "        nao_apneia = captura[:, sub_idx, :9000-window_size]\n",
    "        apneia = captura[:, sub_idx, 9000:12000-window_size]\n",
    "        subports_apneia.append(apneia)\n",
    "        subports_naoapneia.append(nao_apneia)\n",
    "\n",
    "    return np.array(subports_apneia), np.array(subports_naoapneia)"
   ],
   "metadata": {
    "collapsed": false
   }
  },
  {
   "cell_type": "code",
   "execution_count": 15,
   "outputs": [],
   "source": [
    "# agora, vamos separar para todas as capturas e armazenar em um dicionario\n",
    "dados_separados = {}\n",
    "for key in stats.keys():\n",
    "    dados_separados[key] = separa_apneia_naoapneia(stats[key])\n"
   ],
   "metadata": {
    "collapsed": false
   }
  },
  {
   "cell_type": "code",
   "execution_count": 19,
   "outputs": [
    {
     "data": {
      "text/plain": "56"
     },
     "execution_count": 19,
     "metadata": {},
     "output_type": "execute_result"
    }
   ],
   "source": [
    "len(dados_separados.items())"
   ],
   "metadata": {
    "collapsed": false
   }
  },
  {
   "cell_type": "code",
   "execution_count": 20,
   "outputs": [
    {
     "data": {
      "text/plain": "dict_keys(['Apneia10_0-Luiz Fernando-Intel 5300-Rapida-Sentado_frente-FFZ-_1m-Intel 5300-28_09_2022-10_40-99_92Hz-54R-69bpm.npy', 'Apneia10_1-Luiz Fernando-Intel 5300-Rapida-Sentado_frente-FFZ-_1m-Intel 5300-28_09_2022-10_43-99_96Hz-56R-71bpm.npy', 'Apneia11_0-Wilson-Intel 5300-Normal-Sentado_ladoDir-FFZ-_1m-Intel 5300-06_10_2022-12_27-99_94Hz-29R-83bpm.npy', 'Apneia11_1-Wilson-Intel 5300-Normal-Sentado_ladoDir-FFZ-_1m-Intel 5300-06_10_2022-12_32-99_94Hz-24R-90bpm.npy', 'Apneia12_0-Wilson-Intel 5300-Normal-Sentado_frente-FFZ-_1m-Intel 5300-06_10_2022-12_38-99_93Hz-28R-96bpm.npy', 'Apneia12_1-Wilson-Intel 5300-Normal-Sentado_frente-FFZ-_1m-Intel 5300-06_10_2022-12_42-99_89Hz-27R-95bpm.npy', 'Apneia13_0-Wilson-Intel 5300-Normal-Sentado_costas-FFZ-_1m-Intel 5300-06_10_2022-12_54-99_93Hz-27R-87bpm.npy', 'Apneia13_1-Wilson-Intel 5300-Normal-Sentado_costas-FFZ-_1m-Intel 5300-06_10_2022-13_01-99_95Hz-24R-86bpm.npy', 'Apneia14_0-Wilson-Intel 5300-Normal-Sentado_ladoEsq-FFZ-_1m-Intel 5300-06_10_2022-13_35-99_95Hz-25R-91bpm.npy', 'Apneia14_1-Wilson-Intel 5300-Normal-Sentado_ladoEsq-FFZ-_1m-Intel 5300-06_10_2022-13_44-99_94Hz-27R-92bpm.npy', 'Apneia15_0-Wilson-Intel 5300-Rapida-Sentado_frente-FFZ-_1m-Intel 5300-06_10_2022-13_57-99_93Hz-53R-74bpm.npy', 'Apneia15_1-Wilson-Intel 5300-Rapida-Sentado_frente-FFZ-_1m-Intel 5300-06_10_2022-14_00-99_86Hz-51R-83bpm.npy', 'Apneia16_0-Joyce-Intel 5300-Normal-Sentado_ladoEsq-FFZ-_1m-Intel 5300-06_10_2022-19_06-99_96Hz-47R-79bpm.npy', 'Apneia16_1-Joyce-Intel 5300-Normal-Sentado_ladoEsq-FFZ-_1m-Intel 5300-06_10_2022-19_10-99_94Hz-48R-85bpm.npy', 'Apneia17_0-Luiz Fernando-Intel 5300-Normal-Sentado_ladoEsq-FFZ-_1m-Intel 5300-19_10_2022-15_24-99_94Hz-15R-70bpm.npy', 'Apneia17_1-Luiz Fernando-Intel 5300-Normal-Sentado_ladoEsq-FFZ-_1m-Intel 5300-19_10_2022-15_27-99_93Hz-11R-72bpm.npy', 'Apneia18_0-Luiz Fernando-Intel 5300-Normal-Sentado_costas-FFZ-_1m-Intel 5300-19_10_2022-15_30-99_94Hz-12R-62bpm.npy', 'Apneia18_1-Luiz Fernando-Intel 5300-Normal-Sentado_costas-FFZ-_1m-Intel 5300-19_10_2022-15_34-99_93Hz-16R-64bpm.npy', 'Apneia19_0-Wilson-Intel 5300-Normal-Sentado_ladoEsq-FFZ-_1m-Intel 5300-19_10_2022-15_38-99_95Hz-24R-74bpm.npy', 'Apneia19_1-Wilson-Intel 5300-Normal-Sentado_ladoEsq-FFZ-_1m-Intel 5300-19_10_2022-15_42-99_94Hz-24R-82bpm.npy', 'Apneia1_0-Alex-Intel 5300-Rapida-Sentado_frente-FFZ-_1m-Intel 5300-22_09_2022-18_37-99_93Hz-32R-87bpm.npy', 'Apneia1_1-Alex-Intel 5300-Rapida-Sentado_frente-FFZ-_1m-Intel 5300-22_09_2022-18_40-99_93Hz-38R-85bpm.npy', 'Apneia20_0-Wilson-Intel 5300-Normal-Sentado_costas-FFZ-_1m-Intel 5300-19_10_2022-15_47-99_89Hz-24R-79bpm.npy', 'Apneia20_1-Wilson-Intel 5300-Normal-Sentado_costas-FFZ-_1m-Intel 5300-19_10_2022-15_52-99_92Hz-24R-77bpm.npy', 'Apneia21_0-Wilson-Intel 5300-Normal-Sentado_frente-FFZ-_1m-Intel 5300-26_10_2022-14_56-99_93Hz-24R-88bpm.npy', 'Apneia21_1-Wilson-Intel 5300-Normal-Sentado_frente-FFZ-_1m-Intel 5300-26_10_2022-14_59-99_94Hz-25R-84bpm.npy', 'Apneia22_0-Wilson-Intel 5300-Normal-Sentado_ladoDir-FFZ-_1m-Intel 5300-26_10_2022-15_02-99_95Hz-27R-86bpm.npy', 'Apneia22_1-Wilson-Intel 5300-Normal-Sentado_ladoDir-FFZ-_1m-Intel 5300-26_10_2022-15_05-99_92Hz-24R-82bpm.npy', 'Apneia23_0-Wilson-Intel 5300-Normal-Sentado_costas-FFZ-_1m-Intel 5300-26_10_2022-15_10-99_96Hz-28R-88bpm.npy', 'Apneia23_1-Wilson-Intel 5300-Normal-Sentado_costas-FFZ-_1m-Intel 5300-26_10_2022-15_13-99_92Hz-28R-84bpm.npy', 'Apneia24_0-Wilson-Intel 5300-Rapida-Sentado_ladoDir-FFZ-_1m-Intel 5300-26_10_2022-15_27-99_93Hz-64R-81bpm.npy', 'Apneia24_1-Wilson-Intel 5300-Rapida-Sentado_ladoDir-FFZ-_1m-Intel 5300-26_10_2022-15_31-99_93Hz-56R-84bpm.npy', 'Apneia25_0-Wilson-Intel 5300-Rapida-Sentado_frente-FFZ-_1m-Intel 5300-26_10_2022-15_34-99_94Hz-60R-86bpm.npy', 'Apneia25_1-Wilson-Intel 5300-Rapida-Sentado_frente-FFZ-_1m-Intel 5300-26_10_2022-15_37-99_90Hz- 62R-86bpm.npy', 'Apneia26_0-Luiz Fernando-Intel 5300-Normal-Sentado_ladoDir-FFZ-_1m-Intel 5300-03_11_2022-07_15-99_92Hz-15R-85bpm.npy', 'Apneia26_1-Luiz Fernando-Intel 5300-Normal-Sentado_ladoDir-FFZ-_1m-Intel 5300-03_11_2022-07_20-99_94Hz-14R-80bpm.npy', 'Apneia27_0-Luiz Fernando-Intel 5300-Normal-Sentado_frente-FFZ-_1m-Intel 5300-03_11_2022-07_26-99_95Hz-17R-83bpm.npy', 'Apneia27_1-Luiz Fernando-Intel 5300-Normal-Sentado_frente-FFZ-_1m-Intel 5300-03_11_2022-07_29-99_94Hz-16R-88bpm.npy', 'Apneia2_0-Alex-Intel 5300-Normal-Sentado_ladoDir-FFZ-_1m-Intel 5300-22_09_2022-18_59-99_95Hz-24R-88bpm.npy', 'Apneia2_1-Alex-Intel 5300-Normal-Sentado_ladoDir-FFZ-_1m-Intel 5300-22_09_2022-19_02-99_94Hz-28R-88bpm.npy', 'Apneia3_0-Alex-Intel 5300-Rapida-Sentado_ladoDir-FFZ-_1m-Intel 5300-22_09_2022-19_10-99_94Hz-66R-88bpm.npy', 'Apneia3_1-Alex-Intel 5300-Rapida-Sentado_ladoDir-FFZ-_1m-Intel 5300-22_09_2022-19_14-99_93Hz-72R-79bpm.npy', 'Apneia4_0-Alex-Intel 5300-Normal-Sentado_frente-FFZ-_1m-Intel 5300-22_09_2022-19_19-99_93Hz-21R-88bpm.npy', 'Apneia4_1-Alex-Intel 5300-Normal-Sentado_frente-FFZ-_1m-Intel 5300-22_09_2022-19_24-99_93Hz-17R-79bpm.npy', 'Apneia5_0-Mariana-Intel 5300-Normal-Sentado_costas-FFZ-_1m-Intel 5300-26_09_2022-15_45-99_95Hz-26R-4592bpm.npy', 'Apneia5_1-Mariana-Intel 5300-Normal-Sentado_costas-FFZ-_1m-Intel 5300-26_09_2022-15_49-99_94Hz-25R-90bpm.npy', 'Apneia6_0-Mariana-Intel 5300-Normal-Sentado_ladoDir-FFZ-_1m-Intel 5300-26_09_2022-15_53-99_94Hz-26R-96bpm.npy', 'Apneia6_1-Mariana-Intel 5300-Normal-Sentado_ladoDir-FFZ-_1m-Intel 5300-26_09_2022-15_57-99_93Hz-26R-90bpm.npy', 'Apneia7_0-Luiz Fernando-Intel 5300-Normal-Sentado_ladoDir-FFZ-_1m-Intel 5300-28_09_2022-09_13-99_94Hz-14R-65bpm.npy', 'Apneia7_1-Luiz Fernando-Intel 5300-Normal-Sentado_ladoDir-FFZ-_1m-Intel 5300-28_09_2022-09_17-99_94Hz-13R-69bpm.npy', 'Apneia8_0-Luiz Fernando-Intel 5300-Normal-Sentado_frente-FFZ-_1m-Intel 5300-28_09_2022-09_26-99_89Hz-15R-73bpm.npy', 'Apneia8_1-Luiz Fernando-Intel 5300-Normal-Sentado_frente-FFZ-_1m-Intel 5300-28_09_2022-09_30-99_94Hz-13R-67bpm.npy', 'Apneia9_0-Luiz Fernando-Intel 5300-Rapida-Sentado_ladoDir-FFZ-_1m-Intel 5300-28_09_2022-10_23-99_94Hz-50R-69bpm.npy', 'Apneia9_1-Luiz Fernando-Intel 5300-Rapida-Sentado_ladoDir-FFZ-_1m-Intel 5300-28_09_2022-10_27-99_93Hz-48R-66bpm.npy', 'calibracao-0-Intel 5300-Rapida-Sentado_frente-FFZ-_1m-Intel 5300-22_09_2022-18_54-99_94Hz-0R-0bpm.npy', 'calibracao-cadeira-cadeira-Intel 5300-Normal-Sentado_frente-FFZ-_1m-Intel 5300-22_09_2022-18_46-99_95Hz-0R-0bpm.npy'])"
     },
     "execution_count": 20,
     "metadata": {},
     "output_type": "execute_result"
    }
   ],
   "source": [
    "dados_separados.keys()"
   ],
   "metadata": {
    "collapsed": false
   }
  },
  {
   "cell_type": "markdown",
   "source": [
    "> Os dados estão na estrutura adequada. Agora, chegou a hora de limparmos."
   ],
   "metadata": {
    "collapsed": false
   }
  },
  {
   "cell_type": "markdown",
   "source": [
    "## Limpeza e organização de dados para modelos:"
   ],
   "metadata": {
    "collapsed": false
   }
  },
  {
   "cell_type": "markdown",
   "source": [
    "> Recapitulando: Temos uma estrutura chamada dados_separados que contém, para cada captura de respiração gravada, a divisão já em apneia e não apneia, para cada uma das 57 subportadoras as informações de variância e desvio padrão que correspondem ao número de janelas analisadas."
   ],
   "metadata": {
    "collapsed": false
   }
  },
  {
   "cell_type": "code",
   "execution_count": 21,
   "outputs": [],
   "source": [
    "# devemos retirar os dados de calibração:\n",
    "calibracao = []\n",
    "for key in dados_separados.keys():\n",
    "    if \"calibracao\" in key:\n",
    "        calibracao.append(key)\n"
   ],
   "metadata": {
    "collapsed": false
   }
  },
  {
   "cell_type": "code",
   "execution_count": 22,
   "outputs": [
    {
     "data": {
      "text/plain": "['calibracao-0-Intel 5300-Rapida-Sentado_frente-FFZ-_1m-Intel 5300-22_09_2022-18_54-99_94Hz-0R-0bpm.npy',\n 'calibracao-cadeira-cadeira-Intel 5300-Normal-Sentado_frente-FFZ-_1m-Intel 5300-22_09_2022-18_46-99_95Hz-0R-0bpm.npy']"
     },
     "execution_count": 22,
     "metadata": {},
     "output_type": "execute_result"
    }
   ],
   "source": [
    "calibracao"
   ],
   "metadata": {
    "collapsed": false
   }
  },
  {
   "cell_type": "code",
   "execution_count": 23,
   "outputs": [],
   "source": [
    "dados_calibracao = [dados_separados[x] for x in calibracao]"
   ],
   "metadata": {
    "collapsed": false
   }
  },
  {
   "cell_type": "code",
   "execution_count": 27,
   "outputs": [
    {
     "ename": "KeyError",
     "evalue": "'calibracao-0-Intel 5300-Rapida-Sentado_frente-FFZ-_1m-Intel 5300-22_09_2022-18_54-99_94Hz-0R-0bpm.npy'",
     "output_type": "error",
     "traceback": [
      "\u001B[1;31m---------------------------------------------------------------------------\u001B[0m",
      "\u001B[1;31mKeyError\u001B[0m                                  Traceback (most recent call last)",
      "\u001B[1;32m<ipython-input-27-8c8b853f3497>\u001B[0m in \u001B[0;36m<module>\u001B[1;34m\u001B[0m\n\u001B[1;32m----> 1\u001B[1;33m \u001B[0mdados_separados\u001B[0m\u001B[1;33m.\u001B[0m\u001B[0mpop\u001B[0m\u001B[1;33m(\u001B[0m\u001B[0mcalibracao\u001B[0m\u001B[1;33m[\u001B[0m\u001B[1;36m0\u001B[0m\u001B[1;33m]\u001B[0m\u001B[1;33m)\u001B[0m\u001B[1;33m\u001B[0m\u001B[1;33m\u001B[0m\u001B[0m\n\u001B[0m\u001B[0;32m      2\u001B[0m \u001B[0mdados_separados\u001B[0m\u001B[1;33m.\u001B[0m\u001B[0mpop\u001B[0m\u001B[1;33m(\u001B[0m\u001B[0mcalibracao\u001B[0m\u001B[1;33m[\u001B[0m\u001B[1;36m1\u001B[0m\u001B[1;33m]\u001B[0m\u001B[1;33m)\u001B[0m\u001B[1;33m\u001B[0m\u001B[1;33m\u001B[0m\u001B[0m\n",
      "\u001B[1;31mKeyError\u001B[0m: 'calibracao-0-Intel 5300-Rapida-Sentado_frente-FFZ-_1m-Intel 5300-22_09_2022-18_54-99_94Hz-0R-0bpm.npy'"
     ]
    }
   ],
   "source": [
    "dados_separados.pop(calibracao[0])\n",
    "dados_separados.pop(calibracao[1])"
   ],
   "metadata": {
    "collapsed": false
   }
  },
  {
   "cell_type": "code",
   "execution_count": 28,
   "outputs": [
    {
     "data": {
      "text/plain": "54"
     },
     "execution_count": 28,
     "metadata": {},
     "output_type": "execute_result"
    }
   ],
   "source": [
    "len(dados_separados)"
   ],
   "metadata": {
    "collapsed": false
   }
  },
  {
   "cell_type": "code",
   "execution_count": 29,
   "outputs": [],
   "source": [
    "# agora vamos juntar os dados de apneia e os dados de nao apneia\n",
    "import pandas as pd"
   ],
   "metadata": {
    "collapsed": false
   }
  },
  {
   "cell_type": "code",
   "execution_count": null,
   "outputs": [],
   "source": [
    "for key in dados_separados.keys():\n",
    "    dados_separados[key]"
   ],
   "metadata": {
    "collapsed": false
   }
  }
 ],
 "metadata": {
  "kernelspec": {
   "display_name": "Python 3",
   "language": "python",
   "name": "python3"
  },
  "language_info": {
   "codemirror_mode": {
    "name": "ipython",
    "version": 2
   },
   "file_extension": ".py",
   "mimetype": "text/x-python",
   "name": "python",
   "nbconvert_exporter": "python",
   "pygments_lexer": "ipython2",
   "version": "2.7.6"
  }
 },
 "nbformat": 4,
 "nbformat_minor": 0
}
